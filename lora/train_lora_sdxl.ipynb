{
 "cells": [
  {
   "cell_type": "code",
   "execution_count": 1,
   "id": "d5fa5547-4311-4778-aa42-d20648af9b4e",
   "metadata": {
    "tags": []
   },
   "outputs": [
    {
     "name": "stdout",
     "output_type": "stream",
     "text": [
      "Collecting git+https://github.com/huggingface/diffusers (from -r requirements_sdxl.txt (line 7))\n",
      "  Cloning https://github.com/huggingface/diffusers to /tmp/pip-req-build-5mvnkded\n",
      "  Running command git clone --filter=blob:none --quiet https://github.com/huggingface/diffusers /tmp/pip-req-build-5mvnkded\n",
      "  Resolved https://github.com/huggingface/diffusers to commit d67eba0f3188a23d12c3e64cae19689b87881295\n",
      "  Installing build dependencies ... \u001b[?25ldone\n",
      "\u001b[?25h  Getting requirements to build wheel ... \u001b[?25ldone\n",
      "\u001b[?25h  Preparing metadata (pyproject.toml) ... \u001b[?25ldone\n",
      "\u001b[?25hRequirement already satisfied: accelerate>=0.16.0 in /usr/local/lib/python3.10/dist-packages (from -r requirements_sdxl.txt (line 1)) (0.21.0)\n",
      "Requirement already satisfied: torchvision in /usr/local/lib/python3.10/dist-packages (from -r requirements_sdxl.txt (line 2)) (0.15.2)\n",
      "Requirement already satisfied: transformers>=4.25.1 in /usr/local/lib/python3.10/dist-packages (from -r requirements_sdxl.txt (line 3)) (4.31.0)\n",
      "Requirement already satisfied: ftfy in /usr/local/lib/python3.10/dist-packages (from -r requirements_sdxl.txt (line 4)) (6.1.1)\n",
      "Requirement already satisfied: tensorboard in /usr/local/lib/python3.10/dist-packages (from -r requirements_sdxl.txt (line 5)) (2.14.0)\n",
      "Requirement already satisfied: Jinja2 in /usr/local/lib/python3.10/dist-packages (from -r requirements_sdxl.txt (line 6)) (3.1.2)\n",
      "Collecting wandb (from -r requirements_sdxl.txt (line 9))\n",
      "  Downloading wandb-0.15.8-py3-none-any.whl (2.1 MB)\n",
      "\u001b[2K     \u001b[90m━━━━━━━━━━━━━━━━━━━━━━━━━━━━━━━━━━━━━━━━\u001b[0m \u001b[32m2.1/2.1 MB\u001b[0m \u001b[31m29.8 MB/s\u001b[0m eta \u001b[36m0:00:00\u001b[0ma \u001b[36m0:00:01\u001b[0m\n",
      "\u001b[?25hCollecting xformers (from -r requirements_sdxl.txt (line 10))\n",
      "  Downloading xformers-0.0.20-cp310-cp310-manylinux2014_x86_64.whl (109.1 MB)\n",
      "\u001b[2K     \u001b[90m━━━━━━━━━━━━━━━━━━━━━━━━━━━━━━━━━━━━━━\u001b[0m \u001b[32m109.1/109.1 MB\u001b[0m \u001b[31m17.7 MB/s\u001b[0m eta \u001b[36m0:00:00\u001b[0m00:01\u001b[0m00:01\u001b[0m\n",
      "\u001b[?25hRequirement already satisfied: numpy>=1.17 in /usr/local/lib/python3.10/dist-packages (from accelerate>=0.16.0->-r requirements_sdxl.txt (line 1)) (1.25.2)\n",
      "Requirement already satisfied: packaging>=20.0 in /usr/local/lib/python3.10/dist-packages (from accelerate>=0.16.0->-r requirements_sdxl.txt (line 1)) (23.1)\n",
      "Requirement already satisfied: psutil in /usr/local/lib/python3.10/dist-packages (from accelerate>=0.16.0->-r requirements_sdxl.txt (line 1)) (5.9.5)\n",
      "Requirement already satisfied: pyyaml in /usr/local/lib/python3.10/dist-packages (from accelerate>=0.16.0->-r requirements_sdxl.txt (line 1)) (6.0)\n",
      "Requirement already satisfied: torch>=1.10.0 in /usr/local/lib/python3.10/dist-packages (from accelerate>=0.16.0->-r requirements_sdxl.txt (line 1)) (2.0.1)\n",
      "Requirement already satisfied: requests in /usr/local/lib/python3.10/dist-packages (from torchvision->-r requirements_sdxl.txt (line 2)) (2.31.0)\n",
      "Requirement already satisfied: pillow!=8.3.*,>=5.3.0 in /usr/local/lib/python3.10/dist-packages (from torchvision->-r requirements_sdxl.txt (line 2)) (10.0.0)\n",
      "Requirement already satisfied: filelock in /usr/local/lib/python3.10/dist-packages (from torch>=1.10.0->accelerate>=0.16.0->-r requirements_sdxl.txt (line 1)) (3.12.2)\n",
      "Requirement already satisfied: typing-extensions in /usr/local/lib/python3.10/dist-packages (from torch>=1.10.0->accelerate>=0.16.0->-r requirements_sdxl.txt (line 1)) (4.6.3)\n",
      "Requirement already satisfied: sympy in /usr/local/lib/python3.10/dist-packages (from torch>=1.10.0->accelerate>=0.16.0->-r requirements_sdxl.txt (line 1)) (1.12)\n",
      "Requirement already satisfied: networkx in /usr/local/lib/python3.10/dist-packages (from torch>=1.10.0->accelerate>=0.16.0->-r requirements_sdxl.txt (line 1)) (3.1)\n",
      "Requirement already satisfied: nvidia-cuda-nvrtc-cu11==11.7.99 in /usr/local/lib/python3.10/dist-packages (from torch>=1.10.0->accelerate>=0.16.0->-r requirements_sdxl.txt (line 1)) (11.7.99)\n",
      "Requirement already satisfied: nvidia-cuda-runtime-cu11==11.7.99 in /usr/local/lib/python3.10/dist-packages (from torch>=1.10.0->accelerate>=0.16.0->-r requirements_sdxl.txt (line 1)) (11.7.99)\n",
      "Requirement already satisfied: nvidia-cuda-cupti-cu11==11.7.101 in /usr/local/lib/python3.10/dist-packages (from torch>=1.10.0->accelerate>=0.16.0->-r requirements_sdxl.txt (line 1)) (11.7.101)\n",
      "Requirement already satisfied: nvidia-cudnn-cu11==8.5.0.96 in /usr/local/lib/python3.10/dist-packages (from torch>=1.10.0->accelerate>=0.16.0->-r requirements_sdxl.txt (line 1)) (8.5.0.96)\n",
      "Requirement already satisfied: nvidia-cublas-cu11==11.10.3.66 in /usr/local/lib/python3.10/dist-packages (from torch>=1.10.0->accelerate>=0.16.0->-r requirements_sdxl.txt (line 1)) (11.10.3.66)\n",
      "Requirement already satisfied: nvidia-cufft-cu11==10.9.0.58 in /usr/local/lib/python3.10/dist-packages (from torch>=1.10.0->accelerate>=0.16.0->-r requirements_sdxl.txt (line 1)) (10.9.0.58)\n",
      "Requirement already satisfied: nvidia-curand-cu11==10.2.10.91 in /usr/local/lib/python3.10/dist-packages (from torch>=1.10.0->accelerate>=0.16.0->-r requirements_sdxl.txt (line 1)) (10.2.10.91)\n",
      "Requirement already satisfied: nvidia-cusolver-cu11==11.4.0.1 in /usr/local/lib/python3.10/dist-packages (from torch>=1.10.0->accelerate>=0.16.0->-r requirements_sdxl.txt (line 1)) (11.4.0.1)\n",
      "Requirement already satisfied: nvidia-cusparse-cu11==11.7.4.91 in /usr/local/lib/python3.10/dist-packages (from torch>=1.10.0->accelerate>=0.16.0->-r requirements_sdxl.txt (line 1)) (11.7.4.91)\n",
      "Requirement already satisfied: nvidia-nccl-cu11==2.14.3 in /usr/local/lib/python3.10/dist-packages (from torch>=1.10.0->accelerate>=0.16.0->-r requirements_sdxl.txt (line 1)) (2.14.3)\n",
      "Requirement already satisfied: nvidia-nvtx-cu11==11.7.91 in /usr/local/lib/python3.10/dist-packages (from torch>=1.10.0->accelerate>=0.16.0->-r requirements_sdxl.txt (line 1)) (11.7.91)\n",
      "Requirement already satisfied: triton==2.0.0 in /usr/local/lib/python3.10/dist-packages (from torch>=1.10.0->accelerate>=0.16.0->-r requirements_sdxl.txt (line 1)) (2.0.0)\n",
      "Requirement already satisfied: setuptools in /usr/local/lib/python3.10/dist-packages (from nvidia-cublas-cu11==11.10.3.66->torch>=1.10.0->accelerate>=0.16.0->-r requirements_sdxl.txt (line 1)) (68.0.0)\n",
      "Requirement already satisfied: wheel in /usr/local/lib/python3.10/dist-packages (from nvidia-cublas-cu11==11.10.3.66->torch>=1.10.0->accelerate>=0.16.0->-r requirements_sdxl.txt (line 1)) (0.40.0)\n",
      "Requirement already satisfied: cmake in /usr/local/lib/python3.10/dist-packages (from triton==2.0.0->torch>=1.10.0->accelerate>=0.16.0->-r requirements_sdxl.txt (line 1)) (3.27.2)\n",
      "Requirement already satisfied: lit in /usr/local/lib/python3.10/dist-packages (from triton==2.0.0->torch>=1.10.0->accelerate>=0.16.0->-r requirements_sdxl.txt (line 1)) (16.0.6)\n",
      "Requirement already satisfied: huggingface-hub<1.0,>=0.14.1 in /usr/local/lib/python3.10/dist-packages (from transformers>=4.25.1->-r requirements_sdxl.txt (line 3)) (0.16.4)\n",
      "Requirement already satisfied: regex!=2019.12.17 in /usr/local/lib/python3.10/dist-packages (from transformers>=4.25.1->-r requirements_sdxl.txt (line 3)) (2023.8.8)\n",
      "Requirement already satisfied: tokenizers!=0.11.3,<0.14,>=0.11.1 in /usr/local/lib/python3.10/dist-packages (from transformers>=4.25.1->-r requirements_sdxl.txt (line 3)) (0.13.3)\n",
      "Requirement already satisfied: safetensors>=0.3.1 in /usr/local/lib/python3.10/dist-packages (from transformers>=4.25.1->-r requirements_sdxl.txt (line 3)) (0.3.2)\n",
      "Requirement already satisfied: tqdm>=4.27 in /usr/local/lib/python3.10/dist-packages (from transformers>=4.25.1->-r requirements_sdxl.txt (line 3)) (4.66.1)\n",
      "Requirement already satisfied: wcwidth>=0.2.5 in /usr/local/lib/python3.10/dist-packages (from ftfy->-r requirements_sdxl.txt (line 4)) (0.2.6)\n",
      "Requirement already satisfied: absl-py>=0.4 in /usr/local/lib/python3.10/dist-packages (from tensorboard->-r requirements_sdxl.txt (line 5)) (1.4.0)\n",
      "Requirement already satisfied: grpcio>=1.48.2 in /usr/local/lib/python3.10/dist-packages (from tensorboard->-r requirements_sdxl.txt (line 5)) (1.57.0)\n",
      "Requirement already satisfied: google-auth<3,>=1.6.3 in /usr/local/lib/python3.10/dist-packages (from tensorboard->-r requirements_sdxl.txt (line 5)) (2.22.0)\n",
      "Requirement already satisfied: google-auth-oauthlib<1.1,>=0.5 in /usr/local/lib/python3.10/dist-packages (from tensorboard->-r requirements_sdxl.txt (line 5)) (1.0.0)\n",
      "Requirement already satisfied: markdown>=2.6.8 in /usr/local/lib/python3.10/dist-packages (from tensorboard->-r requirements_sdxl.txt (line 5)) (3.4.4)\n",
      "Requirement already satisfied: protobuf>=3.19.6 in /usr/local/lib/python3.10/dist-packages (from tensorboard->-r requirements_sdxl.txt (line 5)) (4.24.0)\n",
      "Requirement already satisfied: tensorboard-data-server<0.8.0,>=0.7.0 in /usr/local/lib/python3.10/dist-packages (from tensorboard->-r requirements_sdxl.txt (line 5)) (0.7.1)\n",
      "Requirement already satisfied: werkzeug>=1.0.1 in /usr/local/lib/python3.10/dist-packages (from tensorboard->-r requirements_sdxl.txt (line 5)) (2.3.6)\n",
      "Requirement already satisfied: MarkupSafe>=2.0 in /usr/local/lib/python3.10/dist-packages (from Jinja2->-r requirements_sdxl.txt (line 6)) (2.1.3)\n",
      "Collecting importlib-metadata (from diffusers==0.20.0.dev0->-r requirements_sdxl.txt (line 7))\n",
      "  Downloading importlib_metadata-6.8.0-py3-none-any.whl (22 kB)\n",
      "Collecting Click!=8.0.0,>=7.1 (from wandb->-r requirements_sdxl.txt (line 9))\n",
      "  Downloading click-8.1.6-py3-none-any.whl (97 kB)\n",
      "\u001b[2K     \u001b[90m━━━━━━━━━━━━━━━━━━━━━━━━━━━━━━━━━━━━━━━━\u001b[0m \u001b[32m97.9/97.9 kB\u001b[0m \u001b[31m19.2 MB/s\u001b[0m eta \u001b[36m0:00:00\u001b[0m\n",
      "\u001b[?25hCollecting GitPython!=3.1.29,>=1.0.0 (from wandb->-r requirements_sdxl.txt (line 9))\n",
      "  Downloading GitPython-3.1.32-py3-none-any.whl (188 kB)\n",
      "\u001b[2K     \u001b[90m━━━━━━━━━━━━━━━━━━━━━━━━━━━━━━━━━━━━━━\u001b[0m \u001b[32m188.5/188.5 kB\u001b[0m \u001b[31m33.9 MB/s\u001b[0m eta \u001b[36m0:00:00\u001b[0m\n",
      "\u001b[?25hCollecting sentry-sdk>=1.0.0 (from wandb->-r requirements_sdxl.txt (line 9))\n",
      "  Downloading sentry_sdk-1.29.2-py2.py3-none-any.whl (215 kB)\n",
      "\u001b[2K     \u001b[90m━━━━━━━━━━━━━━━━━━━━━━━━━━━━━━━━━━━━━━\u001b[0m \u001b[32m215.6/215.6 kB\u001b[0m \u001b[31m37.4 MB/s\u001b[0m eta \u001b[36m0:00:00\u001b[0m\n",
      "\u001b[?25hCollecting docker-pycreds>=0.4.0 (from wandb->-r requirements_sdxl.txt (line 9))\n",
      "  Downloading docker_pycreds-0.4.0-py2.py3-none-any.whl (9.0 kB)\n",
      "Collecting pathtools (from wandb->-r requirements_sdxl.txt (line 9))\n",
      "  Downloading pathtools-0.1.2.tar.gz (11 kB)\n",
      "  Preparing metadata (setup.py) ... \u001b[?25ldone\n",
      "\u001b[?25hCollecting setproctitle (from wandb->-r requirements_sdxl.txt (line 9))\n",
      "  Downloading setproctitle-1.3.2-cp310-cp310-manylinux_2_5_x86_64.manylinux1_x86_64.manylinux_2_17_x86_64.manylinux2014_x86_64.whl (30 kB)\n",
      "Collecting appdirs>=1.4.3 (from wandb->-r requirements_sdxl.txt (line 9))\n",
      "  Downloading appdirs-1.4.4-py2.py3-none-any.whl (9.6 kB)\n",
      "Collecting pyre-extensions==0.0.29 (from xformers->-r requirements_sdxl.txt (line 10))\n",
      "  Downloading pyre_extensions-0.0.29-py3-none-any.whl (12 kB)\n",
      "Collecting typing-inspect (from pyre-extensions==0.0.29->xformers->-r requirements_sdxl.txt (line 10))\n",
      "  Downloading typing_inspect-0.9.0-py3-none-any.whl (8.8 kB)\n",
      "Requirement already satisfied: six>=1.4.0 in /usr/lib/python3/dist-packages (from docker-pycreds>=0.4.0->wandb->-r requirements_sdxl.txt (line 9)) (1.14.0)\n",
      "Collecting gitdb<5,>=4.0.1 (from GitPython!=3.1.29,>=1.0.0->wandb->-r requirements_sdxl.txt (line 9))\n",
      "  Downloading gitdb-4.0.10-py3-none-any.whl (62 kB)\n",
      "\u001b[2K     \u001b[90m━━━━━━━━━━━━━━━━━━━━━━━━━━━━━━━━━━━━━━━━\u001b[0m \u001b[32m62.7/62.7 kB\u001b[0m \u001b[31m13.4 MB/s\u001b[0m eta \u001b[36m0:00:00\u001b[0m\n",
      "\u001b[?25hRequirement already satisfied: cachetools<6.0,>=2.0.0 in /usr/local/lib/python3.10/dist-packages (from google-auth<3,>=1.6.3->tensorboard->-r requirements_sdxl.txt (line 5)) (5.3.1)\n",
      "Requirement already satisfied: pyasn1-modules>=0.2.1 in /usr/local/lib/python3.10/dist-packages (from google-auth<3,>=1.6.3->tensorboard->-r requirements_sdxl.txt (line 5)) (0.3.0)\n",
      "Requirement already satisfied: rsa<5,>=3.1.4 in /usr/local/lib/python3.10/dist-packages (from google-auth<3,>=1.6.3->tensorboard->-r requirements_sdxl.txt (line 5)) (4.9)\n",
      "Requirement already satisfied: urllib3<2.0 in /usr/lib/python3/dist-packages (from google-auth<3,>=1.6.3->tensorboard->-r requirements_sdxl.txt (line 5)) (1.25.8)\n",
      "Requirement already satisfied: requests-oauthlib>=0.7.0 in /usr/local/lib/python3.10/dist-packages (from google-auth-oauthlib<1.1,>=0.5->tensorboard->-r requirements_sdxl.txt (line 5)) (1.3.1)\n",
      "Requirement already satisfied: fsspec in /usr/local/lib/python3.10/dist-packages (from huggingface-hub<1.0,>=0.14.1->transformers>=4.25.1->-r requirements_sdxl.txt (line 3)) (2023.6.0)\n",
      "Requirement already satisfied: charset-normalizer<4,>=2 in /usr/local/lib/python3.10/dist-packages (from requests->torchvision->-r requirements_sdxl.txt (line 2)) (3.1.0)\n",
      "Requirement already satisfied: idna<4,>=2.5 in /usr/lib/python3/dist-packages (from requests->torchvision->-r requirements_sdxl.txt (line 2)) (2.8)\n",
      "Requirement already satisfied: certifi>=2017.4.17 in /usr/lib/python3/dist-packages (from requests->torchvision->-r requirements_sdxl.txt (line 2)) (2019.11.28)\n",
      "Collecting urllib3<2.0 (from google-auth<3,>=1.6.3->tensorboard->-r requirements_sdxl.txt (line 5))\n",
      "  Downloading urllib3-1.26.16-py2.py3-none-any.whl (143 kB)\n",
      "\u001b[2K     \u001b[90m━━━━━━━━━━━━━━━━━━━━━━━━━━━━━━━━━━━━━━━\u001b[0m \u001b[32m143.1/143.1 kB\u001b[0m \u001b[31m6.8 MB/s\u001b[0m eta \u001b[36m0:00:00\u001b[0m\n",
      "\u001b[?25hCollecting zipp>=0.5 (from importlib-metadata->diffusers==0.20.0.dev0->-r requirements_sdxl.txt (line 7))\n",
      "  Downloading zipp-3.16.2-py3-none-any.whl (7.2 kB)\n",
      "Collecting smmap<6,>=3.0.1 (from gitdb<5,>=4.0.1->GitPython!=3.1.29,>=1.0.0->wandb->-r requirements_sdxl.txt (line 9))\n",
      "  Downloading smmap-5.0.0-py3-none-any.whl (24 kB)\n",
      "Requirement already satisfied: pyasn1<0.6.0,>=0.4.6 in /usr/local/lib/python3.10/dist-packages (from pyasn1-modules>=0.2.1->google-auth<3,>=1.6.3->tensorboard->-r requirements_sdxl.txt (line 5)) (0.5.0)\n",
      "Requirement already satisfied: oauthlib>=3.0.0 in /usr/local/lib/python3.10/dist-packages (from requests-oauthlib>=0.7.0->google-auth-oauthlib<1.1,>=0.5->tensorboard->-r requirements_sdxl.txt (line 5)) (3.2.2)\n",
      "Requirement already satisfied: mpmath>=0.19 in /usr/local/lib/python3.10/dist-packages (from sympy->torch>=1.10.0->accelerate>=0.16.0->-r requirements_sdxl.txt (line 1)) (1.3.0)\n",
      "Collecting mypy-extensions>=0.3.0 (from typing-inspect->pyre-extensions==0.0.29->xformers->-r requirements_sdxl.txt (line 10))\n",
      "  Downloading mypy_extensions-1.0.0-py3-none-any.whl (4.7 kB)\n",
      "Building wheels for collected packages: diffusers, pathtools\n",
      "  Building wheel for diffusers (pyproject.toml) ... \u001b[?25ldone\n",
      "\u001b[?25h  Created wheel for diffusers: filename=diffusers-0.20.0.dev0-py3-none-any.whl size=1325546 sha256=67ff77e68e1774987b0970c26f488fa6f662cdad1ffc89ac53833ffec072ad12\n",
      "  Stored in directory: /tmp/pip-ephem-wheel-cache-wiouii6i/wheels/f7/7d/99/d361489e5762e3464b3811bc629e94cf5bf5ef44dd5c3c4d52\n",
      "  Building wheel for pathtools (setup.py) ... \u001b[?25ldone\n",
      "\u001b[?25h  Created wheel for pathtools: filename=pathtools-0.1.2-py3-none-any.whl size=8791 sha256=ffea4de5193f263c308c9ced99ed12a4ed476201a7401fa8c5dba07a66840e2e\n",
      "  Stored in directory: /root/.cache/pip/wheels/e7/f3/22/152153d6eb222ee7a56ff8617d80ee5207207a8c00a7aab794\n",
      "Successfully built diffusers pathtools\n",
      "Installing collected packages: pathtools, appdirs, zipp, urllib3, smmap, setproctitle, mypy-extensions, docker-pycreds, Click, typing-inspect, sentry-sdk, importlib-metadata, gitdb, pyre-extensions, GitPython, wandb, diffusers, xformers\n",
      "  Attempting uninstall: urllib3\n",
      "    Found existing installation: urllib3 1.25.8\n",
      "    Uninstalling urllib3-1.25.8:\n",
      "      Successfully uninstalled urllib3-1.25.8\n",
      "Successfully installed Click-8.1.6 GitPython-3.1.32 appdirs-1.4.4 diffusers-0.20.0.dev0 docker-pycreds-0.4.0 gitdb-4.0.10 importlib-metadata-6.8.0 mypy-extensions-1.0.0 pathtools-0.1.2 pyre-extensions-0.0.29 sentry-sdk-1.29.2 setproctitle-1.3.2 smmap-5.0.0 typing-inspect-0.9.0 urllib3-1.26.16 wandb-0.15.8 xformers-0.0.20 zipp-3.16.2\n",
      "\u001b[33mWARNING: Running pip as the 'root' user can result in broken permissions and conflicting behaviour with the system package manager. It is recommended to use a virtual environment instead: https://pip.pypa.io/warnings/venv\u001b[0m\u001b[33m\n",
      "\u001b[0m\n",
      "\u001b[1m[\u001b[0m\u001b[34;49mnotice\u001b[0m\u001b[1;39;49m]\u001b[0m\u001b[39;49m A new release of pip is available: \u001b[0m\u001b[31;49m23.1.2\u001b[0m\u001b[39;49m -> \u001b[0m\u001b[32;49m23.2.1\u001b[0m\n",
      "\u001b[1m[\u001b[0m\u001b[34;49mnotice\u001b[0m\u001b[1;39;49m]\u001b[0m\u001b[39;49m To update, run: \u001b[0m\u001b[32;49mpython -m pip install --upgrade pip\u001b[0m\n"
     ]
    }
   ],
   "source": [
    "# !rm -rf diffusers\n",
    "# !git clone https://github.com/huggingface/diffusers\n",
    "# !cd diffusers && pip install -e .\n",
    "!pip install -r requirements_sdxl.txt \n"
   ]
  },
  {
   "cell_type": "code",
   "execution_count": 2,
   "id": "85bfc350-d76f-4cf6-bfcd-541a0a5b5618",
   "metadata": {
    "tags": []
   },
   "outputs": [
    {
     "name": "stderr",
     "output_type": "stream",
     "text": [
      "/usr/local/lib/python3.10/dist-packages/tqdm/auto.py:21: TqdmWarning: IProgress not found. Please update jupyter and ipywidgets. See https://ipywidgets.readthedocs.io/en/stable/user_install.html\n",
      "  from .autonotebook import tqdm as notebook_tqdm\n"
     ]
    },
    {
     "data": {
      "text/plain": [
       "PosixPath('/root/.cache/huggingface/accelerate/default_config.yaml')"
      ]
     },
     "execution_count": 2,
     "metadata": {},
     "output_type": "execute_result"
    }
   ],
   "source": [
    "from accelerate.utils import write_basic_config\n",
    "write_basic_config()\n"
   ]
  },
  {
   "cell_type": "code",
   "execution_count": null,
   "id": "875c1ad8-d826-4ab8-b4bb-7990673c60c6",
   "metadata": {},
   "outputs": [],
   "source": []
  },
  {
   "cell_type": "code",
   "execution_count": null,
   "id": "f376759f-b214-4992-8f09-55c6dc23ec86",
   "metadata": {},
   "outputs": [],
   "source": []
  },
  {
   "cell_type": "code",
   "execution_count": null,
   "id": "8eff6649-00f8-475e-bc79-600f532eb436",
   "metadata": {},
   "outputs": [],
   "source": []
  },
  {
   "cell_type": "code",
   "execution_count": 4,
   "id": "62075bbb-d664-43c4-9a16-d6946f3aa6c0",
   "metadata": {
    "scrolled": true,
    "tags": []
   },
   "outputs": [
    {
     "name": "stdout",
     "output_type": "stream",
     "text": [
      "08/13/2023 16:56:53 - INFO - __main__ - Distributed environment: NO\n",
      "Num processes: 1\n",
      "Process index: 0\n",
      "Local process index: 0\n",
      "Device: cuda\n",
      "\n",
      "Mixed precision type: bf16\n",
      "\n",
      "Downloading (…)okenizer_config.json: 100%|█████| 737/737 [00:00<00:00, 1.58MB/s]\n",
      "Downloading (…)tokenizer/vocab.json: 100%|█| 1.06M/1.06M [00:00<00:00, 11.5MB/s]\n",
      "Downloading (…)tokenizer/merges.txt: 100%|███| 525k/525k [00:00<00:00, 6.52MB/s]\n",
      "Downloading (…)cial_tokens_map.json: 100%|█████| 472/472 [00:00<00:00, 1.19MB/s]\n",
      "Downloading (…)okenizer_config.json: 100%|█████| 725/725 [00:00<00:00, 1.83MB/s]\n",
      "Downloading (…)cial_tokens_map.json: 100%|█████| 460/460 [00:00<00:00, 1.05MB/s]\n",
      "Downloading (…)_encoder/config.json: 100%|█████| 565/565 [00:00<00:00, 1.44MB/s]\n",
      "You are using a model of type clip_text_model to instantiate a model of type . This is not supported for all configurations of models and can yield errors.\n",
      "Downloading (…)ncoder_2/config.json: 100%|█████| 575/575 [00:00<00:00, 1.45MB/s]\n",
      "You are using a model of type clip_text_model to instantiate a model of type . This is not supported for all configurations of models and can yield errors.\n",
      "Downloading (…)cheduler_config.json: 100%|█████| 479/479 [00:00<00:00, 1.20MB/s]\n",
      "{'clip_sample_range', 'variance_type', 'dynamic_thresholding_ratio', 'thresholding'} was not found in config. Values will be initialized to default values.\n",
      "Downloading model.safetensors: 100%|██████████| 492M/492M [00:04<00:00, 108MB/s]\n",
      "Downloading model.safetensors: 100%|████████| 2.78G/2.78G [00:25<00:00, 108MB/s]\n",
      "Downloading (…)lve/main/config.json: 100%|█████| 631/631 [00:00<00:00, 1.61MB/s]\n",
      "Downloading (…)ch_model.safetensors: 100%|████| 335M/335M [00:03<00:00, 109MB/s]\n",
      "Downloading (…)ain/unet/config.json: 100%|█| 1.68k/1.68k [00:00<00:00, 4.22MB/s]\n",
      "Downloading (…)ch_model.safetensors: 100%|██| 10.3G/10.3G [01:34<00:00, 108MB/s]\n",
      "\u001b[34m\u001b[1mwandb\u001b[0m: Currently logged in as: \u001b[33mphilippe-henri-saade\u001b[0m (\u001b[33mkollai\u001b[0m). Use \u001b[1m`wandb login --relogin`\u001b[0m to force relogin\n",
      "\u001b[34m\u001b[1mwandb\u001b[0m: Tracking run with wandb version 0.15.8\n",
      "\u001b[34m\u001b[1mwandb\u001b[0m: Run data is saved locally in \u001b[35m\u001b[1m/root/sd-xl-experiments/lora/wandb/run-20230813_165923-9js9ap4b\u001b[0m\n",
      "\u001b[34m\u001b[1mwandb\u001b[0m: Run \u001b[1m`wandb offline`\u001b[0m to turn off syncing.\n",
      "\u001b[34m\u001b[1mwandb\u001b[0m: Syncing run \u001b[33measy-lion-20\u001b[0m\n",
      "\u001b[34m\u001b[1mwandb\u001b[0m: ⭐️ View project at \u001b[34m\u001b[4mhttps://wandb.ai/kollai/dreambooth-lora-sd-xl\u001b[0m\n",
      "\u001b[34m\u001b[1mwandb\u001b[0m: 🚀 View run at \u001b[34m\u001b[4mhttps://wandb.ai/kollai/dreambooth-lora-sd-xl/runs/9js9ap4b\u001b[0m\n",
      "08/13/2023 16:59:24 - INFO - __main__ - ***** Running training *****\n",
      "08/13/2023 16:59:24 - INFO - __main__ -   Num examples = 11\n",
      "08/13/2023 16:59:24 - INFO - __main__ -   Num batches each epoch = 11\n",
      "08/13/2023 16:59:24 - INFO - __main__ -   Num Epochs = 91\n",
      "08/13/2023 16:59:24 - INFO - __main__ -   Instantaneous batch size per device = 1\n",
      "08/13/2023 16:59:24 - INFO - __main__ -   Total train batch size (w. parallel, distributed & accumulation) = 1\n",
      "08/13/2023 16:59:24 - INFO - __main__ -   Gradient Accumulation steps = 1\n",
      "08/13/2023 16:59:24 - INFO - __main__ -   Total optimization steps = 1000\n",
      "Steps:   1%|▏           | 11/1000 [00:18<22:01,  1.34s/it, loss=0.0165, lr=1e-6]08/13/2023 16:59:42 - INFO - __main__ - Running validation... \n",
      " Generating 2 images with prompt: beautiful Philippe Saade man photography, 8k, highly detailed, 8k.\n",
      "\n",
      "Downloading (…)ain/model_index.json: 100%|██████| 609/609 [00:00<00:00, 938kB/s]\u001b[A\n",
      "\n",
      "Fetching 11 files:   0%|                                 | 0/11 [00:00<?, ?it/s]\u001b[A\n",
      "\n",
      "Downloading (…)ch_model.safetensors:   0%|           | 0.00/335M [00:00<?, ?B/s]\u001b[A\u001b[A\n",
      "\n",
      "Downloading (…)ch_model.safetensors:   3%|  | 10.5M/335M [00:00<00:04, 74.0MB/s]\u001b[A\u001b[A\n",
      "\n",
      "Downloading (…)ch_model.safetensors:   9%|▎  | 31.5M/335M [00:00<00:03, 100MB/s]\u001b[A\u001b[A\n",
      "\n",
      "Downloading (…)ch_model.safetensors:  16%|▍  | 52.4M/335M [00:00<00:02, 106MB/s]\u001b[A\u001b[A\n",
      "\n",
      "Downloading (…)ch_model.safetensors:  22%|▋  | 73.4M/335M [00:00<00:02, 109MB/s]\u001b[A\u001b[A\n",
      "\n",
      "Downloading (…)ch_model.safetensors:  28%|▊  | 94.4M/335M [00:00<00:02, 110MB/s]\u001b[A\u001b[A\n",
      "\n",
      "Downloading (…)ch_model.safetensors:  34%|█▍  | 115M/335M [00:01<00:01, 111MB/s]\u001b[A\u001b[A\n",
      "\n",
      "Downloading (…)ch_model.safetensors:  41%|█▋  | 136M/335M [00:01<00:01, 112MB/s]\u001b[A\u001b[A\n",
      "\n",
      "Downloading (…)ch_model.safetensors:  47%|█▉  | 157M/335M [00:01<00:01, 112MB/s]\u001b[A\u001b[A\n",
      "\n",
      "Downloading (…)ch_model.safetensors:  53%|██▏ | 178M/335M [00:01<00:01, 112MB/s]\u001b[A\u001b[A\n",
      "\n",
      "Downloading (…)ch_model.safetensors:  60%|██▍ | 199M/335M [00:01<00:01, 112MB/s]\u001b[A\u001b[A\n",
      "\n",
      "Downloading (…)ch_model.safetensors:  66%|██▋ | 220M/335M [00:02<00:01, 112MB/s]\u001b[A\u001b[A\n",
      "\n",
      "Downloading (…)ch_model.safetensors:  72%|██▉ | 241M/335M [00:02<00:00, 112MB/s]\u001b[A\u001b[A\n",
      "\n",
      "Downloading (…)ch_model.safetensors:  78%|███▏| 262M/335M [00:02<00:00, 112MB/s]\u001b[A\u001b[A\n",
      "\n",
      "Downloading (…)ch_model.safetensors:  85%|███▍| 283M/335M [00:02<00:00, 112MB/s]\u001b[A\u001b[A\n",
      "\n",
      "Downloading (…)ch_model.safetensors:  91%|███▋| 304M/335M [00:02<00:00, 112MB/s]\u001b[A\u001b[A\n",
      "\n",
      "Downloading (…)ch_model.safetensors: 100%|████| 335M/335M [00:03<00:00, 111MB/s]\u001b[A\u001b[A\n",
      "\n",
      "Fetching 11 files: 100%|████████████████████████| 11/11 [00:03<00:00,  3.34it/s]\u001b[A\n",
      "\n",
      "Loading pipeline components...:   0%|                     | 0/7 [00:00<?, ?it/s]\u001b[ALoaded tokenizer_2 as CLIPTokenizer from `tokenizer_2` subfolder of stabilityai/stable-diffusion-xl-base-1.0.\n",
      "Loaded tokenizer as CLIPTokenizer from `tokenizer` subfolder of stabilityai/stable-diffusion-xl-base-1.0.\n",
      "\n",
      "Loading pipeline components...:  86%|███████████▏ | 6/7 [00:00<00:00, 45.26it/s]\u001b[ALoaded scheduler as EulerDiscreteScheduler from `scheduler` subfolder of stabilityai/stable-diffusion-xl-base-1.0.\n",
      "Loading pipeline components...: 100%|█████████████| 7/7 [00:00<00:00, 51.71it/s]\n",
      "{'solver_order', 'variance_type', 'lower_order_final', 'solver_type', 'dynamic_thresholding_ratio', 'algorithm_type', 'lambda_min_clipped', 'thresholding'} was not found in config. Values will be initialized to default values.\n",
      "Steps:  11%|█         | 110/1000 [03:21<19:52,  1.34s/it, loss=0.142, lr=9.7e-7]08/13/2023 17:02:45 - INFO - __main__ - Running validation... \n",
      " Generating 2 images with prompt: beautiful Philippe Saade man photography, 8k, highly detailed, 8k.\n",
      "\n",
      "Loading pipeline components...:   0%|                     | 0/7 [00:00<?, ?it/s]\u001b[ALoaded tokenizer_2 as CLIPTokenizer from `tokenizer_2` subfolder of stabilityai/stable-diffusion-xl-base-1.0.\n",
      "Loaded tokenizer as CLIPTokenizer from `tokenizer` subfolder of stabilityai/stable-diffusion-xl-base-1.0.\n",
      "\n",
      "Loading pipeline components...:  86%|███████████▏ | 6/7 [00:00<00:00, 46.37it/s]\u001b[ALoaded scheduler as EulerDiscreteScheduler from `scheduler` subfolder of stabilityai/stable-diffusion-xl-base-1.0.\n",
      "Loading pipeline components...: 100%|█████████████| 7/7 [00:00<00:00, 53.01it/s]\n",
      "{'solver_order', 'variance_type', 'lower_order_final', 'solver_type', 'dynamic_thresholding_ratio', 'algorithm_type', 'lambda_min_clipped', 'thresholding'} was not found in config. Values will be initialized to default values.\n",
      "Steps:  21%|██        | 209/1000 [06:22<17:40,  1.34s/it, loss=0.02, lr=8.96e-7]08/13/2023 17:05:46 - INFO - __main__ - Running validation... \n",
      " Generating 2 images with prompt: beautiful Philippe Saade man photography, 8k, highly detailed, 8k.\n",
      "\n",
      "Loading pipeline components...:   0%|                     | 0/7 [00:00<?, ?it/s]\u001b[ALoaded tokenizer_2 as CLIPTokenizer from `tokenizer_2` subfolder of stabilityai/stable-diffusion-xl-base-1.0.\n",
      "Loaded tokenizer as CLIPTokenizer from `tokenizer` subfolder of stabilityai/stable-diffusion-xl-base-1.0.\n",
      "\n",
      "Loading pipeline components...:  86%|███████████▏ | 6/7 [00:00<00:00, 45.01it/s]\u001b[ALoaded scheduler as EulerDiscreteScheduler from `scheduler` subfolder of stabilityai/stable-diffusion-xl-base-1.0.\n",
      "Loading pipeline components...: 100%|█████████████| 7/7 [00:00<00:00, 51.50it/s]\n",
      "{'solver_order', 'variance_type', 'lower_order_final', 'solver_type', 'dynamic_thresholding_ratio', 'algorithm_type', 'lambda_min_clipped', 'thresholding'} was not found in config. Values will be initialized to default values.\n",
      "Steps:  31%|██▍     | 308/1000 [09:23<15:42,  1.36s/it, loss=0.0684, lr=7.84e-7]08/13/2023 17:08:47 - INFO - __main__ - Running validation... \n",
      " Generating 2 images with prompt: beautiful Philippe Saade man photography, 8k, highly detailed, 8k.\n",
      "\n",
      "Loading pipeline components...:   0%|                     | 0/7 [00:00<?, ?it/s]\u001b[ALoaded tokenizer_2 as CLIPTokenizer from `tokenizer_2` subfolder of stabilityai/stable-diffusion-xl-base-1.0.\n",
      "Loaded tokenizer as CLIPTokenizer from `tokenizer` subfolder of stabilityai/stable-diffusion-xl-base-1.0.\n",
      "\n",
      "Loading pipeline components...:  86%|███████████▏ | 6/7 [00:00<00:00, 47.78it/s]\u001b[ALoaded scheduler as EulerDiscreteScheduler from `scheduler` subfolder of stabilityai/stable-diffusion-xl-base-1.0.\n",
      "Loading pipeline components...: 100%|█████████████| 7/7 [00:00<00:00, 54.67it/s]\n",
      "{'solver_order', 'variance_type', 'lower_order_final', 'solver_type', 'dynamic_thresholding_ratio', 'algorithm_type', 'lambda_min_clipped', 'thresholding'} was not found in config. Values will be initialized to default values.\n"
     ]
    }
   ],
   "source": [
    "MODEL_NAME=\"stabilityai/stable-diffusion-xl-base-1.0\"\n",
    "INSTANCE_DIR=\"../data/phil_1024\"\n",
    "\n",
    "STEPS = 1000\n",
    "SCHEDULER = \"cosine\"\n",
    "LR = 3e-6\n",
    "\n",
    "OUTPUT_DIR=f\"{INSTANCE_DIR.split('/')[-1]}_{STEPS}_{SCHEDULER}_{LR}\"\n",
    "\n",
    "!accelerate launch ./train_dreambooth_lora_sdxl.py \\\n",
    "  --seed=0 \\\n",
    "  --pretrained_model_name_or_path={MODEL_NAME}  \\\n",
    "  --pretrained_vae_model_name_or_path=madebyollin/sdxl-vae-fp16-fix \\\n",
    "  --instance_data_dir={INSTANCE_DIR} \\\n",
    "  --output_dir={OUTPUT_DIR} \\\n",
    "  --mixed_precision=\"bf16\" \\\n",
    "  --instance_prompt=\"a photo of Philippe Saade man\" \\\n",
    "  --resolution=1024 \\\n",
    "  --train_batch_size=1 \\\n",
    "  --learning_rate={LR} \\\n",
    "  --report_to=\"wandb\" \\\n",
    "  --lr_scheduler={SCHEDULER} \\\n",
    "  --lr_warmup_steps=0 \\\n",
    "  --max_train_steps={STEPS} \\\n",
    "  --validation_prompt=\"beautiful Philippe Saade man photography, 8k, highly detailed, 8k\" \\\n",
    "  --validation_epochs=9 \\\n",
    "  --seed=\"0\"  \\\n",
    "  --push_to_hub \\\n",
    "  --num_validation_images=2 \\\n",
    "  --enable_xformers_memory_efficient_attention\n",
    "  # --train_text_encoder \\\n"
   ]
  },
  {
   "cell_type": "code",
   "execution_count": null,
   "id": "eaabfbee-b8ab-42eb-8805-f8145faf1a0f",
   "metadata": {},
   "outputs": [],
   "source": []
  },
  {
   "cell_type": "code",
   "execution_count": 3,
   "id": "7cc31eb8-4191-4ee3-9a04-a9387b8fa19d",
   "metadata": {
    "tags": []
   },
   "outputs": [
    {
     "name": "stdout",
     "output_type": "stream",
     "text": [
      "Requirement already satisfied: huggingface_hub in /venv/lib/python3.10/site-packages (0.13.4)\n",
      "Collecting huggingface_hub\n",
      "  Obtaining dependency information for huggingface_hub from https://files.pythonhosted.org/packages/7f/c4/adcbe9a696c135578cabcbdd7331332daad4d49b7c43688bc2d36b3a47d2/huggingface_hub-0.16.4-py3-none-any.whl.metadata\n",
      "  Downloading huggingface_hub-0.16.4-py3-none-any.whl.metadata (12 kB)\n",
      "Requirement already satisfied: filelock in /venv/lib/python3.10/site-packages (from huggingface_hub) (3.11.0)\n",
      "Requirement already satisfied: fsspec in /venv/lib/python3.10/site-packages (from huggingface_hub) (2023.4.0)\n",
      "Requirement already satisfied: requests in /venv/lib/python3.10/site-packages (from huggingface_hub) (2.28.2)\n",
      "Requirement already satisfied: tqdm>=4.42.1 in /venv/lib/python3.10/site-packages (from huggingface_hub) (4.65.0)\n",
      "Requirement already satisfied: pyyaml>=5.1 in /venv/lib/python3.10/site-packages (from huggingface_hub) (6.0)\n",
      "Requirement already satisfied: typing-extensions>=3.7.4.3 in /venv/lib/python3.10/site-packages (from huggingface_hub) (4.5.0)\n",
      "Requirement already satisfied: packaging>=20.9 in /venv/lib/python3.10/site-packages (from huggingface_hub) (23.1)\n",
      "Requirement already satisfied: charset-normalizer<4,>=2 in /venv/lib/python3.10/site-packages (from requests->huggingface_hub) (3.1.0)\n",
      "Requirement already satisfied: idna<4,>=2.5 in /venv/lib/python3.10/site-packages (from requests->huggingface_hub) (3.4)\n",
      "Requirement already satisfied: urllib3<1.27,>=1.21.1 in /venv/lib/python3.10/site-packages (from requests->huggingface_hub) (1.26.15)\n",
      "Requirement already satisfied: certifi>=2017.4.17 in /venv/lib/python3.10/site-packages (from requests->huggingface_hub) (2022.12.7)\n",
      "Downloading huggingface_hub-0.16.4-py3-none-any.whl (268 kB)\n",
      "\u001b[2K   \u001b[90m━━━━━━━━━━━━━━━━━━━━━━━━━━━━━━━━━━━━━━━━\u001b[0m \u001b[32m268.8/268.8 kB\u001b[0m \u001b[31m5.8 MB/s\u001b[0m eta \u001b[36m0:00:00\u001b[0ma \u001b[36m0:00:01\u001b[0m\n",
      "\u001b[?25h\u001b[33mDEPRECATION: torchsde 0.2.5 has a non-standard dependency specifier numpy>=1.19.*; python_version >= \"3.7\". pip 23.3 will enforce this behaviour change. A possible replacement is to upgrade to a newer version of torchsde or contact the author to suggest that they release a version with a conforming dependency specifiers. Discussion can be found at https://github.com/pypa/pip/issues/12063\u001b[0m\u001b[33m\n",
      "\u001b[0mInstalling collected packages: huggingface_hub\n",
      "  Attempting uninstall: huggingface_hub\n",
      "    Found existing installation: huggingface-hub 0.13.4\n",
      "    Uninstalling huggingface-hub-0.13.4:\n",
      "      Successfully uninstalled huggingface-hub-0.13.4\n",
      "Successfully installed huggingface_hub-0.16.4\n"
     ]
    }
   ],
   "source": [
    "!pip install --upgrade huggingface_hub"
   ]
  },
  {
   "cell_type": "code",
   "execution_count": 4,
   "id": "718a19a1-aa5e-409b-852f-5d7137576eb5",
   "metadata": {
    "tags": []
   },
   "outputs": [],
   "source": [
    "import torch\n",
    "torch.cuda.empty_cache()"
   ]
  },
  {
   "cell_type": "code",
   "execution_count": 4,
   "id": "d47b0721-71aa-4563-b509-17e4caa66025",
   "metadata": {
    "tags": []
   },
   "outputs": [
    {
     "ename": "ModuleNotFoundError",
     "evalue": "No module named 'huggingface_hub'",
     "output_type": "error",
     "traceback": [
      "\u001b[0;31m---------------------------------------------------------------------------\u001b[0m",
      "\u001b[0;31mModuleNotFoundError\u001b[0m                       Traceback (most recent call last)",
      "Cell \u001b[0;32mIn[4], line 1\u001b[0m\n\u001b[0;32m----> 1\u001b[0m \u001b[38;5;28;01mimport\u001b[39;00m \u001b[38;5;21;01mhuggingface_hub\u001b[39;00m\n",
      "\u001b[0;31mModuleNotFoundError\u001b[0m: No module named 'huggingface_hub'"
     ]
    }
   ],
   "source": [
    "import huggingface_hub"
   ]
  },
  {
   "cell_type": "code",
   "execution_count": 1,
   "id": "53677341-f539-4f78-ab28-9fb8785278b6",
   "metadata": {
    "tags": []
   },
   "outputs": [
    {
     "ename": "ModuleNotFoundError",
     "evalue": "No module named 'huggingface_hub'",
     "output_type": "error",
     "traceback": [
      "\u001b[0;31m---------------------------------------------------------------------------\u001b[0m",
      "\u001b[0;31mModuleNotFoundError\u001b[0m                       Traceback (most recent call last)",
      "Cell \u001b[0;32mIn[1], line 1\u001b[0m\n\u001b[0;32m----> 1\u001b[0m \u001b[38;5;28;01mfrom\u001b[39;00m \u001b[38;5;21;01mhuggingface_hub\u001b[39;00m\u001b[38;5;21;01m.\u001b[39;00m\u001b[38;5;21;01mrepocard\u001b[39;00m \u001b[38;5;28;01mimport\u001b[39;00m RepoCard\n\u001b[1;32m      2\u001b[0m \u001b[38;5;28;01mfrom\u001b[39;00m \u001b[38;5;21;01mdiffusers\u001b[39;00m \u001b[38;5;28;01mimport\u001b[39;00m DiffusionPipeline\n\u001b[1;32m      3\u001b[0m \u001b[38;5;28;01mimport\u001b[39;00m \u001b[38;5;21;01mtorch\u001b[39;00m\n",
      "\u001b[0;31mModuleNotFoundError\u001b[0m: No module named 'huggingface_hub'"
     ]
    }
   ],
   "source": [
    "from huggingface_hub.repocard import RepoCard\n",
    "from diffusers import DiffusionPipeline\n",
    "import torch\n",
    "\n",
    "lora_model_id = \"phil-lora-2\"\n",
    "card = RepoCard.load(lora_model_id)\n",
    "base_model_id = card.data.to_dict()[\"base_model\"]\n",
    "\n",
    "pipe = DiffusionPipeline.from_pretrained(base_model_id, torch_dtype=torch.float16)\n",
    "pipe = pipe.to(\"cuda\")\n",
    "pipe.load_lora_weights(lora_model_id)\n",
    "image = pipe(\"A picture of a sks man in a suit\", num_inference_steps=25).images[0]\n",
    "image.save(\"sks_dog.png\")"
   ]
  },
  {
   "cell_type": "code",
   "execution_count": 10,
   "id": "58fdfa66-6997-4492-9d71-3faa7560200f",
   "metadata": {
    "tags": []
   },
   "outputs": [
    {
     "ename": "ModuleNotFoundError",
     "evalue": "No module named 'huggingface_hub'",
     "output_type": "error",
     "traceback": [
      "\u001b[0;31m---------------------------------------------------------------------------\u001b[0m",
      "\u001b[0;31mModuleNotFoundError\u001b[0m                       Traceback (most recent call last)",
      "Cell \u001b[0;32mIn[10], line 1\u001b[0m\n\u001b[0;32m----> 1\u001b[0m \u001b[38;5;28;01mfrom\u001b[39;00m \u001b[38;5;21;01mhuggingface_hub\u001b[39;00m \u001b[38;5;28;01mimport\u001b[39;00m notebook_login\n",
      "\u001b[0;31mModuleNotFoundError\u001b[0m: No module named 'huggingface_hub'"
     ]
    }
   ],
   "source": [
    "from huggingface_hub import notebook_login\n"
   ]
  },
  {
   "cell_type": "code",
   "execution_count": 6,
   "id": "7e457b1f-9ea9-4141-91d1-aebdc495bef1",
   "metadata": {},
   "outputs": [],
   "source": [
    "a = 4"
   ]
  },
  {
   "cell_type": "code",
   "execution_count": 10,
   "id": "133e12a0-8de1-44b6-b723-e596309ac9b3",
   "metadata": {},
   "outputs": [
    {
     "data": {
      "application/vnd.jupyter.widget-view+json": {
       "model_id": "f7028808a55b45bea9a01f1397bd54e5",
       "version_major": 2,
       "version_minor": 0
      },
      "text/plain": [
       "pytorch_lora_weights.bin:   0%|          | 0.00/30.2M [00:00<?, ?B/s]"
      ]
     },
     "metadata": {},
     "output_type": "display_data"
    },
    {
     "data": {
      "application/vnd.jupyter.widget-view+json": {
       "model_id": "d078d11757824e328a8f965b631c5ff9",
       "version_major": 2,
       "version_minor": 0
      },
      "text/plain": [
       "random_states_0.pkl:   0%|          | 0.00/14.6k [00:00<?, ?B/s]"
      ]
     },
     "metadata": {},
     "output_type": "display_data"
    },
    {
     "data": {
      "application/vnd.jupyter.widget-view+json": {
       "model_id": "9d91ebdafcaf4f459ecd1b57d2251e33",
       "version_major": 2,
       "version_minor": 0
      },
      "text/plain": [
       "Upload 5 LFS files:   0%|          | 0/5 [00:00<?, ?it/s]"
      ]
     },
     "metadata": {},
     "output_type": "display_data"
    },
    {
     "data": {
      "application/vnd.jupyter.widget-view+json": {
       "model_id": "bc6538f42cfb4e6ebad4ce0ec4307f97",
       "version_major": 2,
       "version_minor": 0
      },
      "text/plain": [
       "pytorch_lora_weights.bin:   0%|          | 0.00/30.2M [00:00<?, ?B/s]"
      ]
     },
     "metadata": {},
     "output_type": "display_data"
    },
    {
     "data": {
      "application/vnd.jupyter.widget-view+json": {
       "model_id": "651c340a7f7a4b89a4b1837f2e6fc44f",
       "version_major": 2,
       "version_minor": 0
      },
      "text/plain": [
       "optimizer.bin:   0%|          | 0.00/60.3M [00:00<?, ?B/s]"
      ]
     },
     "metadata": {},
     "output_type": "display_data"
    },
    {
     "data": {
      "application/vnd.jupyter.widget-view+json": {
       "model_id": "c094e9e13af049b0bae2592f1c6f22a5",
       "version_major": 2,
       "version_minor": 0
      },
      "text/plain": [
       "scheduler.bin:   0%|          | 0.00/563 [00:00<?, ?B/s]"
      ]
     },
     "metadata": {},
     "output_type": "display_data"
    },
    {
     "data": {
      "text/plain": [
       "'https://huggingface.co/PhilSad/phil_1024_750_cosine_0.0001/tree/main/'"
      ]
     },
     "execution_count": 10,
     "metadata": {},
     "output_type": "execute_result"
    }
   ],
   "source": [
    "from huggingface_hub import upload_folder\n",
    "import os\n",
    "\n",
    "def save_model_card(\n",
    "    repo_id: str, images=None, base_model=str, train_text_encoder=False, prompt=str, repo_folder=None, vae_path=None\n",
    "):\n",
    "    img_str = \"\"\n",
    "    for i, image in enumerate(images):\n",
    "        image.save(os.path.join(repo_folder, f\"image_{i}.png\"))\n",
    "        img_str += f\"![img_{i}](./image_{i}.png)\\n\"\n",
    "\n",
    "    yaml = f\"\"\"\n",
    "---\n",
    "license: openrail++\n",
    "base_model: {base_model}\n",
    "instance_prompt: {prompt}\n",
    "tags:\n",
    "- stable-diffusion-xl\n",
    "- stable-diffusion-xl-diffusers\n",
    "- text-to-image\n",
    "- diffusers\n",
    "- lora\n",
    "inference: true\n",
    "---\n",
    "    \"\"\"\n",
    "    model_card = f\"\"\"\n",
    "# LoRA DreamBooth - {repo_id}\n",
    "\n",
    "These are LoRA adaption weights for {base_model}. The weights were trained on {prompt} using [DreamBooth](https://dreambooth.github.io/). You can find some example images in the following. \\n\n",
    "{img_str}\n",
    "\n",
    "LoRA for the text encoder was enabled: {train_text_encoder}.\n",
    "\n",
    "Special VAE used for training: {vae_path}.\n",
    "\"\"\"\n",
    "    with open(os.path.join(repo_folder, \"README.md\"), \"w\") as f:\n",
    "        f.write(yaml + model_card)\n",
    "\n",
    "\n",
    "save_model_card(\n",
    "    \"PhilSad/phil_1024_750_cosine_0.0001\",\n",
    "    base_model=MODEL_NAME,\n",
    "    train_text_encoder=True,\n",
    "    prompt=\"a photo of sks man\",\n",
    "    repo_folder=OUTPUT_DIR,\n",
    "    vae_path=\"adebyollin/sdxl-vae-fp16-fix\",\n",
    "    images=[]\n",
    ")\n",
    "upload_folder(\n",
    "    repo_id=\"PhilSad/phil_1024_750_cosine_0.0001\",\n",
    "    folder_path=OUTPUT_DIR,\n",
    "    commit_message=\"End of training\",\n",
    "    ignore_patterns=[\"step_*\", \"epoch_*\"],\n",
    ")"
   ]
  }
 ],
 "metadata": {
  "kernelspec": {
   "display_name": "Python 3 (ipykernel)",
   "language": "python",
   "name": "python3"
  },
  "language_info": {
   "codemirror_mode": {
    "name": "ipython",
    "version": 3
   },
   "file_extension": ".py",
   "mimetype": "text/x-python",
   "name": "python",
   "nbconvert_exporter": "python",
   "pygments_lexer": "ipython3",
   "version": "3.10.12"
  }
 },
 "nbformat": 4,
 "nbformat_minor": 5
}
