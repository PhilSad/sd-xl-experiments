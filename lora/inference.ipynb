{
 "cells": [
  {
   "cell_type": "code",
   "execution_count": null,
   "id": "60fd2922-8b62-407f-a540-f3fbd5027ba7",
   "metadata": {},
   "outputs": [],
   "source": [
    "from huggingface_hub.repocard import RepoCard\n",
    "from diffusers import DiffusionPipeline\n",
    "import torch\n",
    "\n",
    "lora_model_id = \"PhilSad/phil-lora-3-500-1e-4\"\n",
    "card = RepoCard.load(lora_model_id)\n",
    "base_model_id = \"stabilityai/stable-diffusion-xl-base-1.0\"\n",
    "\n",
    "pipe = DiffusionPipeline.from_pretrained(base_model_id, torch_dtype=torch.float16)\n",
    "pipe = pipe.to(\"cuda\")\n",
    "pipe.load_lora_weights(lora_model_id)\n"
   ]
  },
  {
   "cell_type": "code",
   "execution_count": null,
   "id": "85c8c11b-2ab4-478a-933d-cb07a3a30240",
   "metadata": {},
   "outputs": [],
   "source": [
    "image = pipe(\"A picture of a sks man in a suit\", num_inference_steps=25).images[0]\n",
    "image"
   ]
  },
  {
   "cell_type": "code",
   "execution_count": null,
   "id": "adf56ddd-06aa-4fa0-a42f-810e77e4749e",
   "metadata": {},
   "outputs": [],
   "source": [
    "image.save('last.jpg')"
   ]
  }
 ],
 "metadata": {
  "kernelspec": {
   "display_name": "Python 3 (ipykernel)",
   "language": "python",
   "name": "python3"
  },
  "language_info": {
   "codemirror_mode": {
    "name": "ipython",
    "version": 3
   },
   "file_extension": ".py",
   "mimetype": "text/x-python",
   "name": "python",
   "nbconvert_exporter": "python",
   "pygments_lexer": "ipython3",
   "version": "3.10.6"
  }
 },
 "nbformat": 4,
 "nbformat_minor": 5
}
